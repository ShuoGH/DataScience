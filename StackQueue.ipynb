{
 "cells": [
  {
   "cell_type": "markdown",
   "metadata": {},
   "source": [
    "# Stack and Queue"
   ]
  },
  {
   "cell_type": "markdown",
   "metadata": {},
   "source": [
    "## Stack \n",
    "\n",
    "Stack in Python can be realised by the `list` data type."
   ]
  },
  {
   "cell_type": "markdown",
   "metadata": {},
   "source": [
    "### Realised by the list"
   ]
  },
  {
   "cell_type": "code",
   "execution_count": 2,
   "metadata": {},
   "outputs": [
    {
     "name": "stdout",
     "output_type": "stream",
     "text": [
      "[3, 4, 5, 6, 7]\n",
      "7\n",
      "[3, 4, 5, 6]\n"
     ]
    }
   ],
   "source": [
    "stack = [3, 4, 5]\n",
    "stack.append(6)\n",
    "stack.append(7)\n",
    "\n",
    "print(stack)    #output : [3, 4, 5, 6, 7]\n",
    "print(stack.pop())     #output : 7\n",
    "print(stack)    #output : [3, 4, 5, 6]"
   ]
  },
  {
   "cell_type": "markdown",
   "metadata": {},
   "source": [
    "### Realised by the `deque`"
   ]
  },
  {
   "cell_type": "code",
   "execution_count": 3,
   "metadata": {},
   "outputs": [
    {
     "name": "stdout",
     "output_type": "stream",
     "text": [
      "deque([3, 4, 5, 6, 7])\n",
      "[3, 4, 5, 6]\n"
     ]
    }
   ],
   "source": [
    "from collections import deque\n",
    "\n",
    "stack1 = deque([3, 4, 5])\n",
    "stack1.append(6)\n",
    "stack1.append(7)\n",
    "print(stack1)   #output : deque([3, 4, 5, 6, 7])\n",
    "stack1.pop()    #output : 7\n",
    "print(list(stack1)) #output : [3, 4, 5, 6]\n"
   ]
  },
  {
   "cell_type": "markdown",
   "metadata": {},
   "source": [
    "## Queue\n",
    "\n",
    "It is also possible to use a list as a `queue`, where the first element added is the first element retrieved (“first-in, first-out”); \n",
    "\n",
    "however, `list`s are not efficient for this purpose. While appends and pops from the end of list are fast, doing inserts or pops from the beginning of a list is slow (because all of the other elements have to be **shifted** by one). \n",
    "\n",
    "To implement a queue, use `collections.deque` which was designed to have fast appends and pops from both ends. For example:\n"
   ]
  },
  {
   "cell_type": "code",
   "execution_count": 4,
   "metadata": {},
   "outputs": [
    {
     "name": "stdout",
     "output_type": "stream",
     "text": [
      "deque([3, 4, 5, 6, 7])\n",
      "3\n",
      "[4, 5, 6, 7]\n"
     ]
    }
   ],
   "source": [
    "from collections import deque\n",
    "\n",
    "queue = deque([3, 4, 5])\n",
    "queue.append(6)\n",
    "queue.append(7)\n",
    "print(queue)    #output : deque([3, 4, 5, 6, 7])\n",
    "print(queue.popleft()) #output : 3\n",
    "print(list(queue)) #output : [4, 5, 6, 7]\n"
   ]
  },
  {
   "cell_type": "markdown",
   "metadata": {},
   "source": [
    "**Note:**\n",
    "\n",
    "二叉树的数据结构中：\n",
    "\n",
    "**深度优先遍历（DFS）：**\n",
    "- 使用stack的思想实现\n",
    "\n",
    "**广度优先遍历（BFS）：**\n",
    "- 使用queue的思想实现\n"
   ]
  },
  {
   "cell_type": "code",
   "execution_count": null,
   "metadata": {},
   "outputs": [],
   "source": []
  }
 ],
 "metadata": {
  "kernelspec": {
   "display_name": "Python 3",
   "language": "python",
   "name": "python3"
  },
  "language_info": {
   "codemirror_mode": {
    "name": "ipython",
    "version": 3
   },
   "file_extension": ".py",
   "mimetype": "text/x-python",
   "name": "python",
   "nbconvert_exporter": "python",
   "pygments_lexer": "ipython3",
   "version": "3.7.1"
  }
 },
 "nbformat": 4,
 "nbformat_minor": 2
}
