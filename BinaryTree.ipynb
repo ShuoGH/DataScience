{
 "cells": [
  {
   "cell_type": "markdown",
   "metadata": {},
   "source": [
    "## BinaryTree"
   ]
  },
  {
   "cell_type": "markdown",
   "execution_count": null,
   "metadata": {},
   "outputs": [],
   "source": [
    "Build the class of Binary Tree "
   ]
  },
  {
   "cell_type": "code",
   "execution_count": 2,
   "metadata": {},
   "outputs": [],
   "source": [
    "class BinaryTree(object):\n",
    "    def __init__(self,rootObj):\n",
    "        self._key = rootObj\n",
    "        self._leftChild = None\n",
    "        self._rightChild = None\n",
    " \n",
    "    def insertLeft(self,newNode):\n",
    "        if self._leftChild == None:\n",
    "            self._leftChild = BinaryTree(newNode)\n",
    "        else:\n",
    "            t = BinaryTree(newNode)\n",
    "            t._leftChild = self._leftChild\n",
    "            self._leftChild = t\n",
    " \n",
    "    def insertRight(self,newNode):\n",
    "        if self._rightChild == None:\n",
    "            self._rightChild = BinaryTree(newNode)\n",
    "        else:\n",
    "            t = BinaryTree(newNode)\n",
    "            t._rightChild = self._rightChild\n",
    "            self._rightChild = t\n",
    "            \n",
    "    @property\n",
    "    def rightChild(self):\n",
    "        return self._rightChild\n",
    "    @property\n",
    "    def leftChild(self):\n",
    "        return self._leftChild\n",
    " \n",
    "    def setRootVal(self,obj):\n",
    "        self._key = obj\n",
    "        \n",
    "    @property\n",
    "    def value(self):\n",
    "        return self._key\n"
   ]
  },
  {
   "cell_type": "markdown",
   "execution_count": null,
   "metadata": {},
   "outputs": [],
   "source": [
    "Construct a binary tree for later use "
   ]
  },
  {
   "cell_type": "code",
   "execution_count": 3,
   "metadata": {},
   "outputs": [],
   "source": [
    "head=BinaryTree(0)\n",
    "root=head\n",
    "\n",
    "head.insertLeft(1)\n",
    "head.insertRight(2)\n",
    "head_1,head_2=head.leftChild,head.rightChild\n",
    "head_1.insertLeft(3)\n",
    "head_1.insertRight(4)\n",
    "head_2.insertLeft(5)\n",
    "head_2.insertRight(6)\n"
   ]
  },
  {
   "cell_type": "code",
   "execution_count": 5,
   "metadata": {},
   "outputs": [
    {
     "name": "stdout",
     "output_type": "stream",
     "text": "^0#^1#^3#$$^4#$$^2#^5#$$^6#$$\n"
    },
    {
     "data": {
      "text/plain": "True"
     },
     "execution_count": 5,
     "metadata": {},
     "output_type": "execute_result"
    }
   ],
   "source": [
    "# Stringfy the binary tree (using Preorder traversal in recursion)\n",
    "# This approach could be used in verificate the subtree of a tree (Leetcode 572)\n",
    "\n",
    "def stringfy_tree(root:BinaryTree):\n",
    "    return '^'+str(root.value)+'#'+stringfy_tree(root.leftChild)+stringfy_tree(root.rightChild) if root else '$'\n",
    "\n",
    "print(stringfy_tree(root))\n",
    "\n",
    "# a tree of '^1#^3#$$^4#$$'\n",
    "'1#^3#$$^4#$$' in stringfy_tree(root)"
   ]
  },
  {
   "cell_type": "markdown",
   "execution_count": null,
   "metadata": {},
   "outputs": [],
   "source": [
    "The methods of DFS (deep first search):\n",
    "\n",
    "- recursion \n",
    "- non-recursion (stack and queue)\n",
    "\n",
    "(pre-order traversal, in-order, post-order)"
   ]
  },
  {
   "cell_type": "code",
   "execution_count": 6,
   "metadata": {},
   "outputs": [],
   "source": [
    "# each method could print directly and returned into a whole list \n",
    "def preorder_t(root:BinaryTree):\n",
    "    if not root:\n",
    "        return \n",
    "    print(root.value)\n",
    "    preorder_t(root.leftChild)\n",
    "    preorder_t(root.rightChild)\n",
    "    return \n",
    "    # # --- above is the method that print directly \n",
    "    # # below is return the whole list/ string ---\n",
    "    # if not root:\n",
    "    #     return []\n",
    "    # res=[root.value]\n",
    "    # return res+preorder_t(root.leftChild)+preorder_t(root.rightChild)\n",
    "\n",
    "def inorder_t(root:BinaryTree):\n",
    "    if not root:\n",
    "        return \n",
    "    inorder_t(root.leftChild)\n",
    "    print(root.value)\n",
    "    inorder_t(root.rightChild)\n",
    "\n",
    "def postorder_t(root:BinaryTree):\n",
    "    if not root:\n",
    "        return \n",
    "    postorder_t(root.leftChild)\n",
    "    postorder_t(root.rightChild)\n",
    "    print(root.value)\n"
   ]
  },
  {
   "cell_type": "code",
   "execution_count": 54,
   "metadata": {},
   "outputs": [],
   "source": [
    "# preorder_t(root)\n",
    "# inorder_t(root)\n",
    "# postorder_t(root)"
   ]
  },
  {
   "cell_type": "code",
   "execution_count": 15,
   "metadata": {},
   "outputs": [],
   "source": [
    "# Non-recursion \n",
    "def preorder(root:BinaryTree):\n",
    "    if not root:\n",
    "        return \n",
    "    stack=[]\n",
    "    while root or stack:\n",
    "        while root:\n",
    "            # 在这里一直去寻找左子树，直接寻为None\n",
    "            print(root.value)\n",
    "            stack.append(root)\n",
    "            root=root.leftChild\n",
    "        # 然后开始pop 寻其右子树，不为空时就开始再次寻找其左x\n",
    "        root=stack.pop()\n",
    "        root=root.rightChild\n",
    "\n",
    "def inorder(root:BinaryTree):\n",
    "    if not root:\n",
    "        return \n",
    "    stack=[]\n",
    "    while root or stack:\n",
    "        while root:\n",
    "            # 在这里一直去寻找左子树。不停地压入栈，但是不在这里进行输出\n",
    "            stack.append(root)\n",
    "            root=root.leftChild\n",
    "        # 出栈之后输出，然后转向右子树。如果右子树不为空的话，会在下一次循环中压入栈。\n",
    "        root=stack.pop()\n",
    "        print(root.value)\n",
    "        root=root.rightChild\n",
    "    # 直到访问到的节点为空，并且栈内没有元素为止 \n",
    "\n",
    "def postorder(root:BinaryTree):\n",
    "    # use two stacks \n",
    "    if not root:\n",
    "        return \n",
    "    stack1=[]\n",
    "    stack2=[]\n",
    "    stack1.append(root)\n",
    "    while stack1:\n",
    "        # 这个while的功能是找出后序遍历的逆序，然后存在stack2中。\n",
    "        node=stack1.pop()\n",
    "        if node.leftChild:\n",
    "            stack1.append(node.leftChild)\n",
    "        if node.rightChild:\n",
    "            stack1.append(node.rightChild)\n",
    "        stack2.append(node)\n",
    "    while stack2:\n",
    "        print(stack2.pop().value)\n"
   ]
  },
  {
   "cell_type": "code",
   "execution_count": 16,
   "metadata": {},
   "outputs": [
    {
     "name": "stdout",
     "output_type": "stream",
     "text": "3\n4\n1\n5\n6\n2\n0\n"
    }
   ],
   "source": [
    "# preorder(root)\n",
    "# inorder(root)\n",
    "# postorder(root)"
   ]
  },
  {
   "cell_type": "markdown",
   "execution_count": null,
   "metadata": {},
   "outputs": [],
   "source": [
    "Measure the depth of binary using level order traversal.\n",
    "\n",
    "1. first thought: through Level Order Treversal to count the depth \n",
    "2. Recursion is quicker and tider ."
   ]
  },
  {
   "cell_type": "code",
   "execution_count": 26,
   "metadata": {},
   "outputs": [],
   "source": [
    "def tree_depth_bfs(root:BinaryTree):\n",
    "    if not root:\n",
    "        return 0\n",
    "    queue=[root]\n",
    "    count=0\n",
    "    while queue:\n",
    "        n=len(queue)\n",
    "        for _ in range(n):\n",
    "            node=queue.pop(0)\n",
    "            if node.leftChild:\n",
    "                queue.append(node.leftChild)\n",
    "            if node.rightChild:\n",
    "                queue.append(node.rightChild)\n",
    "        count+=1 \n",
    "    return count \n",
    "\n",
    "\n",
    "def tree_depth_recursion(root:BinaryTree):\n",
    "    # use recursion to count the depth quickly \n",
    "    if not root:\n",
    "        return 0 \n",
    "    else:\n",
    "        return 1+max(tree_depth_recursion(root.leftChild),tree_depth_recursion(root.rightChild))"
   ]
  },
  {
   "cell_type": "code",
   "execution_count": 27,
   "metadata": {},
   "outputs": [
    {
     "data": {
      "text/plain": "4"
     },
     "execution_count": 27,
     "metadata": {},
     "output_type": "execute_result"
    }
   ],
   "source": [
    "# head_2.leftChild.insertLeft(10)\n",
    "# tree_depth_recursion(root)\n",
    "tree_depth_bfs(root)"
   ]
  },
  {
   "cell_type": "markdown",
   "execution_count": null,
   "metadata": {},
   "outputs": [],
   "source": [
    "递归和非递归方式的优缺点：\n",
    "\n",
    "递归写法：\n",
    "- 优点： 可阅读性 \n",
    "- 缺点：在涉及到很深的二叉树的时候，可能会出现栈溢出（stack overflow）的问题。函数频繁调用也会消耗一些时间\n",
    "\n",
    "非递归写法：\n",
    "- 优点： 不容易溢出，不涉及频繁的函数调用，效率更高一些"
   ]
  },
  {
   "cell_type": "markdown",
   "execution_count": null,
   "metadata": {},
   "outputs": [],
   "source": [
    "(LeetCode 105, 106) Construct binary tree \n",
    "\n",
    "Given the **preorder** and **inorder** traversal, to construct the binary tree \n",
    "\n",
    "For example:\n",
    "\n",
    "`preorder = [3,9,20,15,7]`\n",
    "\n",
    "`inorder = [9,3,15,20,7]`"
   ]
  },
  {
   "cell_type": "code",
   "execution_count": 28,
   "metadata": {},
   "outputs": [],
   "source": [
    "# build a simple treenode class for later use \n",
    "class TreeNode():\n",
    "    def __init__(self,x):\n",
    "        self.val=x\n",
    "        self.left=None \n",
    "        self.right=None "
   ]
  },
  {
   "cell_type": "code",
   "execution_count": 31,
   "metadata": {},
   "outputs": [],
   "source": [
    "def buildTree_1(preorder:list,inorder:list):\n",
    "    # use recursion to build the tree \n",
    "    if not preorder:\n",
    "        return None \n",
    "    \n",
    "    r_v=preorder[0]\n",
    "    root_node=TreeNode(r_v)\n",
    "\n",
    "    index_r=inorder.index(r_v)\n",
    "    root_node.left=buildTree_1(preorder[1:1+index_r],inorder[:index_r])\n",
    "    root_node.right=buildTree_1(preorder[index_r+1:],inorder[index_r+1:])\n",
    "    return root_node "
   ]
  },
  {
   "cell_type": "code",
   "execution_count": 37,
   "metadata": {},
   "outputs": [
    {
     "data": {
      "text/plain": "'^3#^9#$$^20#^15#$$^7#$$'"
     },
     "execution_count": 37,
     "metadata": {},
     "output_type": "execute_result"
    }
   ],
   "source": [
    "preorder = [3,9,20,15,7]\n",
    "inorder = [9,3,15,20,7]\n",
    "# check the correction of the construction function\n",
    "def print_tree(root):\n",
    "    return '^'+str(root.val)+'#'+print_tree(root.left)+print_tree(root.right) if root else '$'\n",
    "print_tree(buildTree_1(preorder,inorder))"
   ]
  },
  {
   "cell_type": "markdown",
   "execution_count": null,
   "metadata": {},
   "outputs": [],
   "source": [
    "Given the **inorder** and **postorder** traversal, to construct the binary tree\n",
    "\n",
    "**tips**:\n",
    "- the root is located in the tail in postorder list \n",
    "- the elements before the root value in inorder are in the left child tree in binary tree "
   ]
  },
  {
   "cell_type": "code",
   "execution_count": 42,
   "metadata": {},
   "outputs": [],
   "source": [
    "def buildTree_2(inorder:list,postorder:list):\n",
    "    if not postorder:\n",
    "                return None \n",
    "    r_v=postorder[-1]\n",
    "    root=TreeNode(r_v)\n",
    "    \n",
    "    index_r=inorder.index(r_v)\n",
    "    root.left=buildTree_2(inorder[:index_r],postorder[:index_r])\n",
    "    root.right=buildTree_2(inorder[index_r+1:],postorder[index_r:-1])\n",
    "    return root"
   ]
  },
  {
   "cell_type": "code",
   "execution_count": 43,
   "metadata": {},
   "outputs": [
    {
     "data": {
      "text/plain": "'^3#^9#$$^20#^15#$$^7#$$'"
     },
     "execution_count": 43,
     "metadata": {},
     "output_type": "execute_result"
    }
   ],
   "source": [
    "inorder = [9,3,15,20,7]\n",
    "postorder = [9,15,7,20,3]\n",
    "print_tree(buildTree_2(inorder,postorder))"
   ]
  },
  {
   "cell_type": "markdown",
   "execution_count": null,
   "metadata": {},
   "outputs": [],
   "source": [
    "## Reference \n",
    "\n",
    "1. 二叉树和他的七种遍历 https://blog.csdn.net/Bone_ACE/article/details/46718683\n"
   ]
  },
  {
   "cell_type": "code",
   "execution_count": null,
   "metadata": {},
   "outputs": [],
   "source": []
  }
 ],
 "metadata": {
  "kernelspec": {
   "display_name": "Python 3",
   "language": "python",
   "name": "python3"
  },
  "language_info": {
   "codemirror_mode": {
    "name": "ipython",
    "version": 3
   },
   "file_extension": ".py",
   "mimetype": "text/x-python",
   "name": "python",
   "nbconvert_exporter": "python",
   "pygments_lexer": "ipython3",
   "version": "3.7.1"
  }
 },
 "nbformat": 4,
 "nbformat_minor": 2
}