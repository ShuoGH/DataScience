{
 "cells": [
  {
   "cell_type": "markdown",
   "metadata": {},
   "source": [
    "## BinaryTree"
   ]
  },
  {
   "cell_type": "code",
   "execution_count": 18,
   "metadata": {},
   "outputs": [],
   "source": [
    "class BinaryTree(object):\n",
    "    def __init__(self,rootObj):\n",
    "        self._key = rootObj\n",
    "        self._leftChild = None\n",
    "        self._rightChild = None\n",
    " \n",
    "    def insertLeft(self,newNode):\n",
    "        if self._leftChild == None:\n",
    "            self._leftChild = BinaryTree(newNode)\n",
    "        else:\n",
    "            t = BinaryTree(newNode)\n",
    "            t._leftChild = self._leftChild\n",
    "            self._leftChild = t\n",
    " \n",
    "    def insertRight(self,newNode):\n",
    "        if self._rightChild == None:\n",
    "            self._rightChild = BinaryTree(newNode)\n",
    "        else:\n",
    "            t = BinaryTree(newNode)\n",
    "            t._rightChild = self._rightChild\n",
    "            self._rightChild = t\n",
    "            \n",
    "    @property\n",
    "    def rightChild(self):\n",
    "        return self._rightChild\n",
    "    @property\n",
    "    def leftChild(self):\n",
    "        return self._leftChild\n",
    " \n",
    "    def setRootVal(self,obj):\n",
    "        self._key = obj\n",
    "        \n",
    "    @property\n",
    "    def value(self):\n",
    "        return self._key\n"
   ]
  },
  {
   "cell_type": "markdown",
   "metadata": {},
   "source": [
    "Test something\n",
    "\n",
    "I should read more about the data structure and algorithm"
   ]
  },
  {
   "cell_type": "code",
   "execution_count": 51,
   "metadata": {},
   "outputs": [
    {
     "data": {
      "text/plain": [
       "'b'"
      ]
     },
     "execution_count": 51,
     "metadata": {},
     "output_type": "execute_result"
    }
   ],
   "source": [
    "tree.leftChild.leftChild.leftChild.leftChild.leftChild.value"
   ]
  },
  {
   "cell_type": "code",
   "execution_count": 52,
   "metadata": {},
   "outputs": [],
   "source": [
    "# problem:\n",
    "a1 = [\"a\", \"b\", \"c\", \"d\", \"e\"]\n",
    "a2 = [\"a\", \"f\", \"g\"]\n",
    "a3 = [\"a\", \"b\", \"n\"]\n",
    "a4 = [\"l\", \"m\"]\n",
    "\n",
    "# Check whether need to set the root value\n",
    "def checkEq(numberList):\n",
    "    for i in range(len(numberList)-1):\n",
    "        if numberList[i]!=numberList[i + 1]:\n",
    "            return False\n",
    "        \n",
    "def buildTree(lists):\n",
    "#     set the root value\n",
    "    if not checkEq([i for i in [j[0] for j in lists]]):\n",
    "        tree=BinaryTree('root')\n",
    "    else:\n",
    "        tree=BinaryTree(lists[0][0])\n",
    "    for list1 in lists:\n",
    "        for i in list1:\n",
    "            tree.insertLeft(i)\n",
    "\n",
    "    return tree\n"
   ]
  }
 ],
 "metadata": {
  "kernelspec": {
   "display_name": "Python 3",
   "language": "python",
   "name": "python3"
  },
  "language_info": {
   "codemirror_mode": {
    "name": "ipython",
    "version": 3
   },
   "file_extension": ".py",
   "mimetype": "text/x-python",
   "name": "python",
   "nbconvert_exporter": "python",
   "pygments_lexer": "ipython3",
   "version": "3.7.1"
  }
 },
 "nbformat": 4,
 "nbformat_minor": 2
}
