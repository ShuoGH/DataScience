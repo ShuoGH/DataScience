{
 "cells": [
  {
   "cell_type": "markdown",
   "metadata": {},
   "source": [
    "# Binary Search Tree\n",
    "\n",
    "**Binary search tree**, also called `sorted/ordered binary tree` is a particular type of container. Binary search tree stores the items(such as numbers or names). \n",
    "\n",
    "They allow fast lookup, addition and removal of items, and can be used to implement either dynamic sets of items, or look up tables that allow finding an item by its key.\n",
    "\n"
   ]
  },
  {
   "cell_type": "markdown",
   "metadata": {},
   "source": [
    "## Tree Node\n",
    "Before creating the binary search tree, you should have the `node` class. Here we define like this:\n"
   ]
  },
  {
   "cell_type": "code",
   "execution_count": 17,
   "metadata": {},
   "outputs": [],
   "source": [
    "class Node:\n",
    "    def __init__(self,data):\n",
    "        self._data=data\n",
    "        self._leftChild=None\n",
    "        self._rightChild=None\n",
    "    @property\n",
    "    def data(self):\n",
    "        return self._data\n",
    "    \n",
    "    @property\n",
    "    def lchild(self):\n",
    "        return self._leftChild\n",
    "    @lchild.setter\n",
    "    def lchild(self,node):\n",
    "        self._leftChild=node\n",
    "        \n",
    "    @property\n",
    "    def rchild(self):\n",
    "        return self._rightChild\n",
    "    @rchild.setter\n",
    "    def rchild(self,node):\n",
    "        self._rightChild=node\n",
    "        \n",
    "    "
   ]
  },
  {
   "cell_type": "markdown",
   "metadata": {},
   "source": [
    "It's a dynamic data structure."
   ]
  },
  {
   "cell_type": "markdown",
   "metadata": {},
   "source": [
    "## Binary Search Tree\n",
    "\n",
    "Define the code for the binary search tree, given a data list."
   ]
  },
  {
   "cell_type": "code",
   "execution_count": 26,
   "metadata": {},
   "outputs": [],
   "source": [
    "class BST:\n",
    "    '''\n",
    "    目前只是定义了二叉树的构造，以及三种遍历。\n",
    "    need to add：\n",
    "        - delete\n",
    "        - find min and max\n",
    "    '''\n",
    "    def __init__(self,node_list):\n",
    "        self.root=Node(node_list[0])\n",
    "        for data in node_list[1:]:\n",
    "            self.insert(data)\n",
    "            \n",
    "    def search(self,node,parent,data):\n",
    "        if node==None:\n",
    "            return False,node,parent\n",
    "        if node.data==data:\n",
    "            return True,node,parent\n",
    "        if node.data>data:\n",
    "            return self.search(node.lchild,node,data)\n",
    "        else:\n",
    "            return self.search(node.rchild,node,data)\n",
    "        \n",
    "    def insert(self,data):\n",
    "        '''\n",
    "        Every insertation is begin from the root node.\n",
    "        Search from the root node and find the proper place.\n",
    "        '''\n",
    "        flag,n,p=self.search(self.root,self.root,data)\n",
    "        if not flag:\n",
    "            new_node=Node(data)\n",
    "            if data>p.data:\n",
    "                p.rchild=new_node\n",
    "            else:\n",
    "                p.lchild=new_node\n",
    "                \n",
    "            \n",
    "    def preOrderTraversal(self,node):\n",
    "        if node:\n",
    "            print(node.data)\n",
    "            self.preOrderTraversal(node.lchild)\n",
    "            self.preOrderTraversal(node.rchild)\n",
    "            \n",
    "    def inOrderTraversal(self,node):\n",
    "        if node:\n",
    "            self.inOrderTraversal(node.lchild)\n",
    "            print(node.data)\n",
    "            self.inOrderTraversal(node.rchild)\n",
    "    \n",
    "    def postOrderTraversal(self,node):\n",
    "        if node:\n",
    "            self.postOrderTraversal(node.lchild)\n",
    "            self.postOrderTraversal(node.rchild)\n",
    "            print(node.data)"
   ]
  },
  {
   "cell_type": "code",
   "execution_count": 25,
   "metadata": {},
   "outputs": [
    {
     "name": "stdout",
     "output_type": "stream",
     "text": [
      "49\n",
      "38\n",
      "13\n",
      "5\n",
      "1\n",
      "27\n",
      "65\n",
      "60\n",
      "97\n",
      "76\n"
     ]
    }
   ],
   "source": [
    "a = [49, 38, 65, 97, 60, 76, 13, 27, 5, 1]\n",
    "p=BST(a)\n",
    "\n",
    "p.preOrderTraversal(p.root)\n",
    "\n",
    "# Note:\n",
    "# 这样似乎默认将传入的list的第一个点作为root node了。是真的要这样吗？\n",
    "# 每次插入操作都是从root点开始的search 然后找到合适的地方的。\n"
   ]
  },
  {
   "cell_type": "markdown",
   "metadata": {},
   "source": [
    "二叉查找树的优点：\n",
    "- 方便搜索\n",
    "- 寻找最大值和最小值：\n",
    "    - 最小值是在最左边的node，只需要沿着二叉搜索树一直往左，直到遇到None\n",
    "    - 最大值在最右边，沿着树直到遇到None"
   ]
  },
  {
   "cell_type": "code",
   "execution_count": null,
   "metadata": {},
   "outputs": [],
   "source": []
  }
 ],
 "metadata": {
  "kernelspec": {
   "display_name": "Python 3",
   "language": "python",
   "name": "python3"
  },
  "language_info": {
   "codemirror_mode": {
    "name": "ipython",
    "version": 3
   },
   "file_extension": ".py",
   "mimetype": "text/x-python",
   "name": "python",
   "nbconvert_exporter": "python",
   "pygments_lexer": "ipython3",
   "version": "3.7.1"
  }
 },
 "nbformat": 4,
 "nbformat_minor": 2
}
