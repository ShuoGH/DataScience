{
 "cells": [
  {
   "cell_type": "markdown",
   "metadata": {},
   "source": [
    "# scraping data for doc2vec\n"
   ]
  },
  {
   "cell_type": "markdown",
   "metadata": {},
   "source": [
    "Because the data which is used train doc2vec model needs string data, so I'm going to scrape more string information from coursera websites."
   ]
  },
  {
   "cell_type": "markdown",
   "metadata": {},
   "source": [
    "## Connect the mongoDB to get the urls"
   ]
  },
  {
   "cell_type": "code",
   "execution_count": 1,
   "metadata": {},
   "outputs": [],
   "source": [
    "import pymongo\n",
    "from pymongo import MongoClient\n",
    "from pprint import pprint\n",
    "import codecs"
   ]
  },
  {
   "cell_type": "code",
   "execution_count": 2,
   "metadata": {},
   "outputs": [],
   "source": [
    "client=MongoClient('mongodb://localhost:27017')"
   ]
  },
  {
   "cell_type": "code",
   "execution_count": 3,
   "metadata": {},
   "outputs": [
    {
     "data": {
      "text/plain": [
       "['admin', 'config', 'coursera', 'enron', 'local']"
      ]
     },
     "execution_count": 3,
     "metadata": {},
     "output_type": "execute_result"
    }
   ],
   "source": [
    "client.list_database_names()"
   ]
  },
  {
   "cell_type": "code",
   "execution_count": 4,
   "metadata": {},
   "outputs": [],
   "source": [
    "db=client.coursera"
   ]
  },
  {
   "cell_type": "code",
   "execution_count": 5,
   "metadata": {},
   "outputs": [
    {
     "data": {
      "text/plain": [
       "['courseinfo_v2']"
      ]
     },
     "execution_count": 5,
     "metadata": {},
     "output_type": "execute_result"
    }
   ],
   "source": [
    "db.list_collection_names()"
   ]
  },
  {
   "cell_type": "code",
   "execution_count": 6,
   "metadata": {},
   "outputs": [],
   "source": [
    "collection=db.courseinfo_v2"
   ]
  },
  {
   "cell_type": "code",
   "execution_count": 7,
   "metadata": {},
   "outputs": [
    {
     "data": {
      "text/plain": [
       "2189"
      ]
     },
     "execution_count": 7,
     "metadata": {},
     "output_type": "execute_result"
    }
   ],
   "source": [
    "collection.count_documents({})"
   ]
  },
  {
   "cell_type": "code",
   "execution_count": 8,
   "metadata": {},
   "outputs": [
    {
     "name": "stdout",
     "output_type": "stream",
     "text": [
      "{'_id': ObjectId('5c27d541efb65d376b07721c'),\n",
      " 'category': {'1': 'Arts and Humanities', '2': 'Music and Art'},\n",
      " 'chapters': ['音乐的史纲与音乐的风格',\n",
      "              '音乐的空间与音乐的时间',\n",
      "              '20世纪西方音乐的多元新秩序特征',\n",
      "              '世纪末情结下的法国音乐：德彪西与拉威尔'],\n",
      " 'cid': '20cnwm',\n",
      " 'cname': '20世纪西方音乐 Western Music in the 20th Century',\n",
      " 'faid': True,\n",
      " 'hours': '17',\n",
      " 'instrlist': {'毕明辉 Bryan Minghui BI': ['20世纪西方音乐 Western Music in the 20th '\n",
      "                                        'Century']},\n",
      " 'language': 'Chinese (Simplified)',\n",
      " 'num_rates': '23',\n",
      " 'num_reviews': '4',\n",
      " 'rates': '4.3',\n",
      " 'skills': [],\n",
      " 'subtitles': 'Subtitles: Chinese (Simplified)',\n",
      " 'uniname': ['Peking University']}\n",
      "{'_id': ObjectId('5c27d541efb65d376b07721d'),\n",
      " 'category': {'1': 'Business', '2': 'Business Essentials'},\n",
      " 'chapters': ['Introduction',\n",
      "              'IT and the CIO in the Digital World',\n",
      "              'Steer the Balance Sheet',\n",
      "              'Market and Sell Products'],\n",
      " 'cid': '2-speed-it',\n",
      " 'cname': 'Two Speed IT: How Companies Can Surf the Digital Wave, a BCG '\n",
      "          'Perspective',\n",
      " 'faid': True,\n",
      " 'hours': '22',\n",
      " 'instrlist': {'Antoine Gourévitch': ['Two Speed IT: How Companies Can Surf '\n",
      "                                      'the Digital Wave, a BCG Perspective'],\n",
      "               'Eric Baudson': ['Two Speed IT: How Companies Can Surf the '\n",
      "                                'Digital Wave, a BCG Perspective'],\n",
      "               'Vanessa Lyon': ['Two Speed IT: How Companies Can Surf the '\n",
      "                                'Digital Wave, a BCG Perspective']},\n",
      " 'language': 'English',\n",
      " 'num_rates': '128',\n",
      " 'num_reviews': '33',\n",
      " 'rates': '4.4',\n",
      " 'skills': [],\n",
      " 'subtitles': 'Subtitles: English',\n",
      " 'uniname': ['CentraleSupélec']}\n",
      "{'_id': ObjectId('5c27d541efb65d376b07721e'),\n",
      " 'category': {'1': 'Computer Science', '2': 'Design and Product'},\n",
      " 'chapters': ['Добро пожаловать на курс «3D-печать для всех и каждого»',\n",
      "              'Технологии трёхмерной печати',\n",
      "              'Устройство и принцип работы трёхмерного принтера, печатающего '\n",
      "              'методом послойного наплавления',\n",
      "              'Сборка механической части принтера',\n",
      "              'Установка необходимого программного обеспечения принтера'],\n",
      " 'cid': '3d-printing',\n",
      " 'cname': '3D-печать для всех и каждого',\n",
      " 'faid': True,\n",
      " 'hours': '8',\n",
      " 'instrlist': {'Николай Георгиевич Булахов (Nikolay G. Bulakhov)': ['Сетевое '\n",
      "                                                                    'администрирование: '\n",
      "                                                                    'от теории '\n",
      "                                                                    'к '\n",
      "                                                                    'практике',\n",
      "                                                                    '3D-печать '\n",
      "                                                                    'для всех '\n",
      "                                                                    'и '\n",
      "                                                                    'каждого']},\n",
      " 'language': 'Russian',\n",
      " 'num_rates': '105',\n",
      " 'num_reviews': '15',\n",
      " 'rates': '4.7',\n",
      " 'skills': [],\n",
      " 'subtitles': 'Subtitles: Russian',\n",
      " 'uniname': ['National Research Tomsk State University']}\n",
      "{'_id': ObjectId('5c27d541efb65d376b07721f'),\n",
      " 'category': {'1': 'Business', '2': 'Entrepreneurship'},\n",
      " 'chapters': ['Course Orientation',\n",
      "              'Module 1: 3D Printing – A New Way of Making',\n",
      "              'Module 2: 3D Printing – On-Demand Manufacturing',\n",
      "              'Module 3: 3D Printing for Development and Education',\n",
      "              'Module 4: From Ideas to Objects ',\n",
      "              'Course Wrap Up'],\n",
      " 'cid': '3d-printing-applications',\n",
      " 'cname': '3D Printing Applications',\n",
      " 'faid': True,\n",
      " 'hours': '17',\n",
      " 'instrlist': {'Vishal Sachdev': ['Digital Marketing Capstone',\n",
      "                                  '3D Printing Applications']},\n",
      " 'language': 'English',\n",
      " 'num_rates': '339',\n",
      " 'num_reviews': '85',\n",
      " 'rates': '4.5',\n",
      " 'skills': [],\n",
      " 'subtitles': 'Subtitles: English, French',\n",
      " 'uniname': ['University of Illinois at Urbana-Champaign']}\n",
      "{'_id': ObjectId('5c27d541efb65d376b077220'),\n",
      " 'category': {'1': 'Business', '2': 'Entrepreneurship'},\n",
      " 'chapters': ['Course Orientation',\n",
      "              'Module 1: Design Sketching for 3D Printing',\n",
      "              'Module 2: Tinkercad',\n",
      "              'Module 3:  Fusion 360 Basics',\n",
      "              'Module 4: Fusion 360 Advanced'],\n",
      " 'cid': '3d-printing-software',\n",
      " 'cname': '3D Printing Software',\n",
      " 'faid': True,\n",
      " 'hours': '22',\n",
      " 'instrlist': {'Jeffrey Smith': ['3D Printing Software']},\n",
      " 'language': 'English',\n",
      " 'num_rates': '187',\n",
      " 'num_reviews': '55',\n",
      " 'rates': '4.5',\n",
      " 'skills': [],\n",
      " 'subtitles': 'Subtitles: English, Russian',\n",
      " 'uniname': ['University of Illinois at Urbana-Champaign']}\n"
     ]
    }
   ],
   "source": [
    "for i in collection.find({}).limit(5):\n",
    "    pprint(i)"
   ]
  },
  {
   "cell_type": "markdown",
   "metadata": {},
   "source": [
    "**unset some fields, which can be used to get the contents about the certain courses**"
   ]
  },
  {
   "cell_type": "code",
   "execution_count": 35,
   "metadata": {},
   "outputs": [
    {
     "data": {
      "text/plain": [
       "<pymongo.results.UpdateResult at 0x108a1ad88>"
      ]
     },
     "execution_count": 35,
     "metadata": {},
     "output_type": "execute_result"
    }
   ],
   "source": [
    "# use this can update the content of the documents to unset some fields.\n",
    "db.collection_enlarged.update_many({},{\"$unset\":{\"faid\":\"\"}})"
   ]
  },
  {
   "cell_type": "code",
   "execution_count": 77,
   "metadata": {
    "scrolled": true
   },
   "outputs": [
    {
     "name": "stdout",
     "output_type": "stream",
     "text": [
      "{'_id': ObjectId('5c27d541efb65d376b07721d'),\n",
      " 'category': {'1': 'Business', '2': 'Business Essentials'},\n",
      " 'chapters': ['Introduction',\n",
      "              'IT and the CIO in the Digital World',\n",
      "              'Steer the Balance Sheet',\n",
      "              'Market and Sell Products'],\n",
      " 'cid': '2-speed-it',\n",
      " 'cname': 'Two Speed IT: How Companies Can Surf the Digital Wave, a BCG '\n",
      "          'Perspective',\n",
      " 'hours': '22',\n",
      " 'instrlist': {'Antoine Gourévitch': ['Two Speed IT: How Companies Can Surf '\n",
      "                                      'the Digital Wave, a BCG Perspective'],\n",
      "               'Eric Baudson': ['Two Speed IT: How Companies Can Surf the '\n",
      "                                'Digital Wave, a BCG Perspective'],\n",
      "               'Vanessa Lyon': ['Two Speed IT: How Companies Can Surf the '\n",
      "                                'Digital Wave, a BCG Perspective']},\n",
      " 'language': 'English',\n",
      " 'num_rates': '128',\n",
      " 'num_reviews': '33',\n",
      " 'rates': '4.4',\n",
      " 'skills': [],\n",
      " 'subtitles': 'Subtitles: English',\n",
      " 'uniname': ['CentraleSupélec']}\n",
      "<class 'dict'>\n",
      "{'_id': ObjectId('5c27d541efb65d376b07721f'),\n",
      " 'category': {'1': 'Business', '2': 'Entrepreneurship'},\n",
      " 'chapters': ['Course Orientation',\n",
      "              'Module 1: 3D Printing – A New Way of Making',\n",
      "              'Module 2: 3D Printing – On-Demand Manufacturing',\n",
      "              'Module 3: 3D Printing for Development and Education',\n",
      "              'Module 4: From Ideas to Objects ',\n",
      "              'Course Wrap Up'],\n",
      " 'cid': '3d-printing-applications',\n",
      " 'cname': '3D Printing Applications',\n",
      " 'hours': '17',\n",
      " 'instrlist': {'Vishal Sachdev': ['Digital Marketing Capstone',\n",
      "                                  '3D Printing Applications']},\n",
      " 'language': 'English',\n",
      " 'num_rates': '339',\n",
      " 'num_reviews': '85',\n",
      " 'rates': '4.5',\n",
      " 'skills': [],\n",
      " 'subtitles': 'Subtitles: English, French',\n",
      " 'uniname': ['University of Illinois at Urbana-Champaign']}\n",
      "<class 'dict'>\n"
     ]
    }
   ],
   "source": [
    "n=0\n",
    "for i in db.collection_enlarged.find({}).limit(2):\n",
    "    db.collection_enlarged.update_one({\"_id\":i[\"_id\"]},{\n",
    "        \"$set\":{\"test\":n}\n",
    "    })\n",
    "    pprint(i)\n",
    "    print(type(i)) # dict"
   ]
  },
  {
   "cell_type": "code",
   "execution_count": 21,
   "metadata": {},
   "outputs": [],
   "source": [
    "# here I get the url list for the new scrapying work\n",
    "domain=\"https://www.coursera.org/learn/\"\n",
    "for i in collection.find({}):\n",
    "    codecs.open(\"url_list_enlarged.txt\",\"a+\",'utf-8').write(i['cname']+\"\\t\"+domain+i['cid']+\"\\n\")"
   ]
  },
  {
   "cell_type": "markdown",
   "metadata": {},
   "source": [
    "## Scrapy code"
   ]
  },
  {
   "cell_type": "code",
   "execution_count": 9,
   "metadata": {},
   "outputs": [],
   "source": [
    "import codecs\n",
    "import re\n",
    "from pprint import pprint\n",
    "from urllib.request import urlopen\n",
    "from urllib.error import HTTPError\n",
    "from bs4 import BeautifulSoup\n",
    "import json"
   ]
  },
  {
   "cell_type": "code",
   "execution_count": 10,
   "metadata": {},
   "outputs": [],
   "source": [
    "def open_soup(url):\n",
    "    try:\n",
    "        html=urlopen(url).read().decode('utf-8')\n",
    "        return BeautifulSoup(html, features='lxml')\n",
    "    except HTTPError:\n",
    "        print(\"\\nThe site has not found(404):\\t\",url)\n",
    "        return False \n",
    "def get_description(soup):\n",
    "    return soup.find(\"div\",class_=\"content-inner\").contents[0]\n",
    "\n",
    "def get_contents(soup):\n",
    "    contents=soup.find_all(\"div\",class_=\"P_gjs17i-o_O-weightNormal_s9jwp5-o_O-fontBody_56f0wi\")\n",
    "    contentlist=[]\n",
    "    for i in contents:\n",
    "        try:\n",
    "            c=i.contents[0].contents[0].contents[1].contents[0]\n",
    "            contentlist.append(c)\n",
    "        except:\n",
    "            continue\n",
    "    return contentlist"
   ]
  },
  {
   "cell_type": "markdown",
   "metadata": {},
   "source": [
    "the features of the new data:\n",
    "1. course name\n",
    "2. category(can be the label)\n",
    "\n",
    "\n",
    "3. description (don't have this one, only need to get this one)\n",
    "4. chapters and its contents\n",
    "\n",
    "\n",
    "5. skills (it is already the list of words)\n",
    "\n",
    "**apart from the description, the information are fetched from the mongoDB**\n",
    "\n",
    "It maybe faster.\n",
    "\n",
    "Addd new field: **description**, **chapter contents**"
   ]
  },
  {
   "cell_type": "code",
   "execution_count": 12,
   "metadata": {},
   "outputs": [],
   "source": [
    "domain=\"https://www.coursera.org/learn/\"\n",
    "# for i in collection.find({}):\n",
    "#     url=domain+i['cid']\n",
    "#     soup=open_soup(url)\n",
    "#     if not soup:\n",
    "#         continue\n",
    "#     des=get_description(soup)\n",
    "#     con=get_contents(soup)        \n",
    "#     collection.update_one({\"_id\":i[\"_id\"]},{\"$set\":{\"description\":des,\"contents\":con}})\n",
    "#     print(i)\n",
    "#     print(i['cid'],\"successful...\")\n"
   ]
  },
  {
   "cell_type": "code",
   "execution_count": 85,
   "metadata": {},
   "outputs": [
    {
     "name": "stdout",
     "output_type": "stream",
     "text": [
      "Machine learning is the science of getting computers to act without being explicitly programmed. In the past decade, machine learning has given us self-driving cars, practical speech recognition, effective web search, and a vastly improved understanding of the human genome. Machine learning is so pervasive today that you probably use it dozens of times a day without knowing it. Many researchers also think it is the best way to make progress towards human-level AI. In this class, you will learn about the most effective machine learning techniques, and gain practice implementing them and getting them to work for yourself. More importantly, you'll learn about not only the theoretical underpinnings of learning, but also gain the practical know-how needed to quickly and powerfully apply these techniques to new problems. Finally, you'll learn about some of Silicon Valley's best practices in innovation as it pertains to machine learning and AI.\n",
      "\n",
      "This course provides a broad introduction to machine learning, datamining, and statistical pattern recognition. Topics include: (i) Supervised learning (parametric/non-parametric algorithms, support vector machines, kernels, neural networks). (ii) Unsupervised learning (clustering, dimensionality reduction, recommender systems, deep learning). (iii) Best practices in machine learning (bias/variance theory; innovation process in machine learning and AI). The course will also draw from numerous case studies and applications, so that you'll also learn how to apply learning algorithms to building smart robots (perception, control), text understanding (web search, anti-spam), computer vision, medical informatics, audio, database mining, and other areas.\n"
     ]
    }
   ],
   "source": [
    "# soup=open_soup(\"https://www.coursera.org/learn/machine-learning\")\n",
    "des=get_description(soup)\n",
    "print(des)"
   ]
  }
 ],
 "metadata": {
  "kernelspec": {
   "display_name": "Python 3",
   "language": "python",
   "name": "python3"
  },
  "language_info": {
   "codemirror_mode": {
    "name": "ipython",
    "version": 3
   },
   "file_extension": ".py",
   "mimetype": "text/x-python",
   "name": "python",
   "nbconvert_exporter": "python",
   "pygments_lexer": "ipython3",
   "version": "3.6.7"
  }
 },
 "nbformat": 4,
 "nbformat_minor": 2
}
