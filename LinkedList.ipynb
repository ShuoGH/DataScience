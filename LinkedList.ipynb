{
 "cells": [
  {
   "cell_type": "markdown",
   "metadata": {},
   "source": [
    "# Linked List"
   ]
  },
  {
   "cell_type": "markdown",
   "metadata": {},
   "source": [
    "There are many kinds of lined list, single, double linked list."
   ]
  },
  {
   "cell_type": "markdown",
   "metadata": {},
   "source": [
    "## Define Node "
   ]
  },
  {
   "cell_type": "code",
   "execution_count": 3,
   "metadata": {},
   "outputs": [],
   "source": [
    "class Node:\n",
    "    def __init__(self, initdata):\n",
    "        self.__data = initdata\n",
    "        self.__next = None\n",
    "\n",
    "    def getData(self):\n",
    "        return self.__data\n",
    "\n",
    "    def getNext(self):\n",
    "        return self.__next\n",
    "\n",
    "    def setData(self, newdata):\n",
    "        self.__data = newdata\n",
    "\n",
    "    def setNext(self, newnext):\n",
    "        self.__next = newnext"
   ]
  },
  {
   "cell_type": "markdown",
   "metadata": {},
   "source": [
    "## Linked List"
   ]
  },
  {
   "cell_type": "code",
   "execution_count": 4,
   "metadata": {},
   "outputs": [],
   "source": [
    "class SinCycLinkedlist:\n",
    "    def __init__(self):\n",
    "        self.head = Node(None)\n",
    "        self.head.setNext(self.head)\n",
    "\n",
    "    def add(self, item):\n",
    "        temp = Node(item)\n",
    "        temp.setNext(self.head.getNext())\n",
    "        self.head.setNext(temp)\n",
    "\n",
    "    def remove(self, item):\n",
    "        prev = self.head\n",
    "        while prev.getNext() != self.head:\n",
    "            cur = prev.getNext()\n",
    "            if cur.getData() == item:\n",
    "                prev.setNext(cur.getNext())\n",
    "            prev = prev.getNext()\n",
    "\n",
    "    def search(self, item):\n",
    "        cur = self.head.getNext()\n",
    "        while cur != self.head:\n",
    "            if cur.getData() == item:\n",
    "                return True\n",
    "            cur = cur.getNext()\n",
    "\n",
    "        return False\n",
    "\n",
    "    def empty(self):\n",
    "        return self.head.getNext() == self.head\n",
    "\n",
    "    def size(self):\n",
    "        count = 0\n",
    "        cur = self.head.getNext()\n",
    "        while cur != self.head:\n",
    "            count += 1\n",
    "            cur = cur.getNext()\n",
    "\n",
    "        return count"
   ]
  },
  {
   "cell_type": "markdown",
   "metadata": {},
   "source": [
    "test"
   ]
  },
  {
   "cell_type": "code",
   "execution_count": 5,
   "metadata": {},
   "outputs": [
    {
     "name": "stdout",
     "output_type": "stream",
     "text": [
      "s.empty() == True, s.size() == 0\n",
      "s.empty() == False, s.size() == 2\n",
      "86 is in s\n",
      "4 is not in s\n",
      "s.empty() == False, s.size() == 2\n",
      "s.empty() == False, s.size() == 1\n"
     ]
    }
   ],
   "source": [
    "s = SinCycLinkedlist()\n",
    "print('s.empty() == %s, s.size() == %s' % (s.empty(), s.size()))\n",
    "\n",
    "s.add(19)\n",
    "s.add(86)\n",
    "print('s.empty() == %s, s.size() == %s' % (s.empty(), s.size()))\n",
    "\n",
    "print('86 is%s in s' % ('' if s.search(86) else ' not',))\n",
    "print('4 is%s in s' % ('' if s.search(4) else ' not',))\n",
    "print('s.empty() == %s, s.size() == %s' % (s.empty(), s.size()))\n",
    "\n",
    "s.remove(19)\n",
    "print('s.empty() == %s, s.size() == %s' % (s.empty(), s.size()))"
   ]
  },
  {
   "cell_type": "code",
   "execution_count": null,
   "metadata": {},
   "outputs": [],
   "source": []
  }
 ],
 "metadata": {
  "kernelspec": {
   "display_name": "Python 3",
   "language": "python",
   "name": "python3"
  },
  "language_info": {
   "codemirror_mode": {
    "name": "ipython",
    "version": 3
   },
   "file_extension": ".py",
   "mimetype": "text/x-python",
   "name": "python",
   "nbconvert_exporter": "python",
   "pygments_lexer": "ipython3",
   "version": "3.7.1"
  }
 },
 "nbformat": 4,
 "nbformat_minor": 2
}
