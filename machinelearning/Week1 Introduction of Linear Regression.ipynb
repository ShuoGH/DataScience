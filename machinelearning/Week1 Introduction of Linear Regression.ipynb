{
 "cells": [
  {
   "cell_type": "markdown",
   "metadata": {},
   "source": [
    "# Introduction to Linear Regression"
   ]
  },
  {
   "cell_type": "code",
   "execution_count": 2,
   "metadata": {},
   "outputs": [],
   "source": [
    "%matplotlib inline\n",
    "import numpy as np\n",
    "import pandas as pd\n",
    "import matplotlib.pyplot as plt\n",
    "\n",
    "import os   #rm rmdir getcwd and so on functions\n",
    "import scipy as sp #scientific computation library\n",
    "\n",
    "from mpl_toolkits.mplot3d import axes3d   #in case we need to plot 3d\n",
    "import seaborn as sns  #another package for pretty graphs\n",
    "\n",
    "from sklearn import datasets\n",
    "from sklearn.neighbors.kde import KernelDensity  #what's this for?  actually no idea*****"
   ]
  },
  {
   "cell_type": "markdown",
   "metadata": {},
   "source": [
    "## example：fit a straight line "
   ]
  },
  {
   "cell_type": "markdown",
   "metadata": {},
   "source": [
    "Regression: learning the intercept and the slope of a straight line fit to a set of points. \n",
    "Generate a set of noisy samples from a linear function f1 and the visualise the function using matplotlib.pyplot(plt)"
   ]
  },
  {
   "cell_type": "code",
   "execution_count": 3,
   "metadata": {},
   "outputs": [
    {
     "name": "stdout",
     "output_type": "stream",
     "text": [
      "(50,)\n",
      "draw a scatter\n"
     ]
    },
    {
     "data": {
      "image/png": "[encoded data removed]",
      "text/plain": [
       "<Figure size 432x288 with 1 Axes>"
      ]
     },
     "metadata": {
      "needs_background": "light"
     },
     "output_type": "display_data"
    }
   ],
   "source": [
    "def  f1(x,m,c):\n",
    "    return m*x+c\n",
    "xmin,xmax,npts=[-4,10,50]\n",
    "X=np.linspace(xmin,xmax,npts) #define the domain of the function \n",
    "print(np.shape(X))\n",
    "\n",
    "y0=f1(X,-3.,9.)+np.random.normal(0,scale=4,size=np.shape(X))\n",
    "#normal function: 0 is the mean, scale is the standard deviation\n",
    "plt.scatter(X,y0,marker='o',c='k')\n",
    "#print(y0) #y0 is a n-dimension vector\n",
    "print(\"draw a scatter\")\n",
    "#scatter. it's not line. \n",
    "#** to search and remeber which kinds of figures are there.***"
   ]
  },
  {
   "cell_type": "code",
   "execution_count": 3,
   "metadata": {
    "collapsed": true
   },
   "outputs": [],
   "source": [
    "# this is just fot the test for linspace()\n",
    "\n",
    "# N=8\n",
    "# y=np.zeros(N)\n",
    "# x1=np.linspace(0,10,N,endpoint=True)\n",
    "# x2=np.linspace(0,10,N,endpoint=False)\n",
    "# plt.plot(x1,y,'o')\n",
    "# plt.plot(x2,y+0.5,'o')\n",
    "# plt.ylim([-0.5,1])\n",
    "\n"
   ]
  },
  {
   "cell_type": "markdown",
   "metadata": {},
   "source": [
    "### next step: \n",
    "create a design matrix:\n",
    "hte matrix is used to denote the domain for calculating.  "
   ]
  },
  {
   "cell_type": "code",
   "execution_count": 14,
   "metadata": {},
   "outputs": [],
   "source": [
    "def designmat1(Xmat):\n",
    "    X=np.atleast_2d(Xmat).T   \n",
    "    #view inputs as arrays with at least two dimension\n",
    "    col1=np.ones(np.shape(X)[0]).reshape(np.shape(X)[0],1)\n",
    "    #ones() is a vector of dimension which is the same with rows num\n",
    "    #reshape make it column vector\n",
    "    X=np.concatenate((col1,X),axis=1)\n",
    "    #like joint. axis mean columns\n",
    "    print(X)\n",
    "    return X\n",
    "#Xmat=designmat1(X)\n",
    "#print(Xmat)\n",
    "#Xmat.shape  #(50,2)\n",
    "#this is the linear regression with one variable, so that's why design the designmatrix. not suitable for multiple var\n",
    "\n",
    "#y=ax1+bx2+c\n",
    "#y=w0+w1x1+w2X2+...+   linear regression with multiple var, need to use matrix \n",
    "\n",
    "#it's different between the two situations*******************************"
   ]
  },
  {
   "cell_type": "markdown",
   "metadata": {
    "collapsed": true
   },
   "source": [
    "## Find optimal weights by gradient descent\n",
    "find the weight vector w:\n",
    "r(w):=y-wX   \n",
    "rss \n",
    "gradient \n",
    "(w and X both are matrix)"
   ]
  },
  {
   "cell_type": "code",
   "execution_count": 18,
   "metadata": {},
   "outputs": [],
   "source": [
    "def gradsqloss(Amat,y,wt):\n",
    "    n,p=Amat.shape\n",
    "#     print(\"shit\",p)\n",
    "    return (-2/n)*Amat.T.dot((y-Amat.dot(wt)))\n",
    "    #print(np.shape(y-Amat.dot(wt)))    #output：(50,) 是一个向量\n",
    "    #this is the gradient of the square loss function\n",
    "    #********************should review \n",
    "    #-2/n*AT*(y-A*wt) 这个是关于权重w的函数，所以AT提到括号外面   AT其实是X，这个是损失函数的梯度\n",
    "    #因为Amat是（50,2），所以要取转置才能和（50，）的残差向量点乘。结果是（2，1）的向量输出\n",
    "    \n",
    "    \n",
    "def gradientdescent(Amat,y,winit,rate,numiter):\n",
    "    n,p=Amat.shape    #50,2\n",
    "    whistory=[]\n",
    "    meanrsshistory=[]  #mean of redisuals \n",
    "    w=winit    #init w0   w是个向量，2 dimensions\n",
    "    \n",
    "    for i in range(numiter):   #70次\n",
    "        meanrss=np.square(y-Amat.dot(w)).mean()\n",
    "        whistory.append(w)\n",
    "        meanrsshistory.append(meanrss)\n",
    "        grad=gradsqloss(Amat,y,w)  #计算损失函数的梯度\n",
    "        #print(grad.size)  #grad是个numpy.ndarray类型的，size为2\n",
    "        #print(grad)   #梯度是二维向量。\n",
    "        w=w-rate*grad  \n",
    "        #w 权重要不停迭代，rate是学习率。\n",
    "        #真正迭代是损失函数的梯度grad为0的时候，这里强制规定了迭代次数为70次\n",
    "        #r=1/n*(y-Aw)   A的第一列全是1，第二列是定义域。w是每次的斜率\n",
    "    return w,np.asarray(whistory),np.asarray(meanrsshistory)\n",
    "    #返回最终的权重w,即为斜率。其他分别为w的历史值，loss的历史值\n",
    "        "
   ]
  },
  {
   "cell_type": "code",
   "execution_count": 19,
   "metadata": {},
   "outputs": [
    {
     "name": "stdout",
     "output_type": "stream",
     "text": [
      "[[ 1.         -4.        ]\n",
      " [ 1.         -3.71428571]\n",
      " [ 1.         -3.42857143]\n",
      " [ 1.         -3.14285714]\n",
      " [ 1.         -2.85714286]\n",
      " [ 1.         -2.57142857]\n",
      " [ 1.         -2.28571429]\n",
      " [ 1.         -2.        ]\n",
      " [ 1.         -1.71428571]\n",
      " [ 1.         -1.42857143]\n",
      " [ 1.         -1.14285714]\n",
      " [ 1.         -0.85714286]\n",
      " [ 1.         -0.57142857]\n",
      " [ 1.         -0.28571429]\n",
      " [ 1.          0.        ]\n",
      " [ 1.          0.28571429]\n",
      " [ 1.          0.57142857]\n",
      " [ 1.          0.85714286]\n",
      " [ 1.          1.14285714]\n",
      " [ 1.          1.42857143]\n",
      " [ 1.          1.71428571]\n",
      " [ 1.          2.        ]\n",
      " [ 1.          2.28571429]\n",
      " [ 1.          2.57142857]\n",
      " [ 1.          2.85714286]\n",
      " [ 1.          3.14285714]\n",
      " [ 1.          3.42857143]\n",
      " [ 1.          3.71428571]\n",
      " [ 1.          4.        ]\n",
      " [ 1.          4.28571429]\n",
      " [ 1.          4.57142857]\n",
      " [ 1.          4.85714286]\n",
      " [ 1.          5.14285714]\n",
      " [ 1.          5.42857143]\n",
      " [ 1.          5.71428571]\n",
      " [ 1.          6.        ]\n",
      " [ 1.          6.28571429]\n",
      " [ 1.          6.57142857]\n",
      " [ 1.          6.85714286]\n",
      " [ 1.          7.14285714]\n",
      " [ 1.          7.42857143]\n",
      " [ 1.          7.71428571]\n",
      " [ 1.          8.        ]\n",
      " [ 1.          8.28571429]\n",
      " [ 1.          8.57142857]\n",
      " [ 1.          8.85714286]\n",
      " [ 1.          9.14285714]\n",
      " [ 1.          9.42857143]\n",
      " [ 1.          9.71428571]\n",
      " [ 1.         10.        ]]\n"
     ]
    },
    {
     "data": {
      "text/plain": [
       "Text(0, 0.5, 'mean of sum of squares of residual')"
      ]
     },
     "execution_count": 19,
     "metadata": {},
     "output_type": "execute_result"
    },
    {
     "data": {
      "image/png": "[encoded data removed]",
      "text/plain": [
       "<Figure size 864x288 with 2 Axes>"
      ]
     },
     "metadata": {
      "needs_background": "light"
     },
     "output_type": "display_data"
    }
   ],
   "source": [
    "Xmat=designmat1(X)   #X is the domain of x\n",
    "#这里生成了一个矩阵，n*2的矩阵，n为50（散点的数目）\n",
    "#第一列全是1，第二列是定义域 -4到50，100个点的x取值\n",
    "n,p=Xmat.shape   #50,2\n",
    "#print(n,p)\n",
    "w0=np.random.randn(p)   #初始权重。包含两个元素的向量\n",
    "#print(w0)\n",
    "\n",
    "num_iters=70 #迭代70次\n",
    "#exercise:try more iterations times\n",
    "#num_iters=2000  \n",
    "\n",
    "rates=[.001,.005,.01,.02]  #different learning rates\n",
    "\n",
    "#exercise: try other learning rates\n",
    "\n",
    "xinput=np.linspace(-4,10,100)   #这里输入100个点\n",
    "fig,ax=plt.subplots(nrows=1,ncols=2,figsize=(12,4)) #画两个图\n",
    "ax[0].scatter(X,y0,marker='o',color='k')   #还是画出最开始的50个点\n",
    "\n",
    "for i,r in enumerate(rates):   #index and number \n",
    "    wfin,whist,meanlosstrace=gradientdescent(Xmat,y0,w0,r,num_iters)\n",
    "    ax[1].plot(meanlosstrace,label=r)\n",
    "    ax[0].plot(xinput,wfin[0]+wfin[1]*xinput)\n",
    "    #wfin是个向量，第一个向量为c，第二个向量为a. y=c+ax\n",
    "    \n",
    "ax[1].legend()\n",
    "ax[1].set_title(\"Gradient descent for different rates\")\n",
    "ax[1].set_xlabel(\"number of iterations\")\n",
    "ax[1].set_ylabel(\"mean of sum of squares of residual\")\n",
    "\n",
    "\n",
    "    "
   ]
  },
  {
   "cell_type": "markdown",
   "metadata": {},
   "source": [
    "# Using scikit-learn to get the solution\n",
    "first: split data into training and the test data."
   ]
  },
  {
   "cell_type": "code",
   "execution_count": 15,
   "metadata": {},
   "outputs": [
    {
     "name": "stdout",
     "output_type": "stream",
     "text": [
      "training pair (33,) (33,) testing pair (17,) (17,)\n"
     ]
    },
    {
     "data": {
      "image/png": "[encoded data removed]",
      "text/plain": [
       "<matplotlib.figure.Figure at 0x1c3445c5198>"
      ]
     },
     "metadata": {},
     "output_type": "display_data"
    }
   ],
   "source": [
    "from sklearn.model_selection import train_test_split\n",
    "\n",
    "X_train,X_test,y_train,y_test=train_test_split(X,y0,test_size=0.33,random_state=42)  \n",
    "#by adding random_state this parameter, it will return a certain series of data. Or every time it will be different\n",
    "plt.scatter(X_train,y_train,c='b')\n",
    "plt.scatter(X_test,y_test,marker='+',c='r')\n",
    "print(\"training pair\",X_train.shape,y_train.shape,\"testing pair\",X_test.shape,y_test.shape)"
   ]
  },
  {
   "cell_type": "code",
   "execution_count": 11,
   "metadata": {},
   "outputs": [
    {
     "name": "stdout",
     "output_type": "stream",
     "text": [
      "checking that the shape of arrays are compatible (33, 1) (33,)\n",
      "trained model has slope -3.04744488245  and intercept 9.96932590985\n",
      "explicit caculation [[-17.8930273  -18.76372584   9.09862737  14.3228186    8.22792883\n",
      "    1.26234053  -7.44464485  -4.83254923  22.15910544 -16.15163023\n",
      "   -1.34975508  -6.57394631  17.80561275  -3.09115216  12.58142152\n",
      "   -9.18604192  21.2884069    3.87443614  20.41770836 -15.28093169\n",
      "   -8.31534338   2.13303907 -12.66883607  13.45212006   3.00373761\n",
      "    6.48653176 -20.50512291   4.74513468  16.06421567 -14.41023315\n",
      "    9.96932591  -2.22045362 -10.927439  ]]\n",
      "using scikit-learn [-17.8930273  -18.76372584   9.09862737  14.3228186    8.22792883\n",
      "   1.26234053  -7.44464485  -4.83254923  22.15910544 -16.15163023\n",
      "  -1.34975508  -6.57394631  17.80561275  -3.09115216  12.58142152\n",
      "  -9.18604192  21.2884069    3.87443614  20.41770836 -15.28093169\n",
      "  -8.31534338   2.13303907 -12.66883607  13.45212006   3.00373761\n",
      "   6.48653176 -20.50512291   4.74513468  16.06421567 -14.41023315\n",
      "   9.96932591  -2.22045362 -10.927439  ]\n"
     ]
    }
   ],
   "source": [
    "from sklearn import linear_model\n",
    "X_train,X_test,y_train,y_test=train_test_split(X,y0,test_size=0.33,random_state=42)\n",
    "\n",
    "X_train=np.atleast_2d(X_train).T\n",
    "print(\"checking that the shape of arrays are compatible\",X_train.shape,y_train.shape)\n",
    "\n",
    "regr=linear_model.LinearRegression()\n",
    "regr.fit(X_train,y_train)\n",
    "#this is the common interface for all data fitting procedures in scikit-learn\n",
    "print(\"trained model has slope\",regr.coef_[0],\" and intercept\",regr.intercept_)\n",
    "#the coef_ and intercept are the attributes of the class\n",
    "\n",
    "yhat0=(regr.intercept_+np.atleast_2d(X_train*regr.coef_)).T\n",
    "print('explicit caculation',yhat0)\n",
    "y_fit0=regr.predict(X_train)\n",
    "print(\"using scikit-learn\",y_fit0)\n",
    "#just to tell us that we can do the prediction by the two means. and they all works.\n"
   ]
  },
  {
   "cell_type": "code",
   "execution_count": 29,
   "metadata": {},
   "outputs": [
    {
     "name": "stdout",
     "output_type": "stream",
     "text": [
      "checking that the shapes of arrays are compatible (17, 1) (17,)\n"
     ]
    },
    {
     "data": {
      "text/plain": [
       "<matplotlib.collections.PathCollection at 0x26758c35908>"
      ]
     },
     "execution_count": 29,
     "metadata": {},
     "output_type": "execute_result"
    },
    {
     "data": {
      "image/png": "[encoded data removed]",
      "text/plain": [
       "<matplotlib.figure.Figure at 0x26758b8e5f8>"
      ]
     },
     "metadata": {},
     "output_type": "display_data"
    }
   ],
   "source": [
    "regr.fit(X_train,y_train)\n",
    "X_test=np.atleast_2d(X_test).T\n",
    "print(\"checking that the shapes of arrays are compatible\",X_test.shape,y_test.shape)\n",
    "\n",
    "\n",
    "y_fit1=regr.predict(X_test)\n",
    "#y_fit1 (17,)is a vector, is corresponding to y_test\n",
    "y_hat1=(regr.intercept_+np.atleast_2d(X_test*regr.coef_))  \n",
    "#y_hat1 (1,17) is martix, is corresponding to X_test\n",
    "\n",
    "  \n",
    "plt.scatter(y_train,(y_fit0-y_train),c='b')\n",
    "plt.scatter(y_test,(y_fit1-y_test),c='r')\n",
    "#check for obvious differences in errors for training and test sets\n"
   ]
  },
  {
   "cell_type": "markdown",
   "metadata": {},
   "source": [
    "## conclusion:\n",
    "the scikit-learn hide the inside functions, make the programming of linear regression easier. \n",
    "just make a regr and fit the training data, then predict.\n",
    "\n",
    "### if possible:\n",
    "look at the code in scikit-learn about the linear regression. to make a better understanding."
   ]
  },
  {
   "cell_type": "markdown",
   "metadata": {},
   "source": [
    "# 2. optional:using one of the scikit-learn tutorials on a diabetes dataset\n",
    "# BEGIN"
   ]
  }
 ],
 "metadata": {
  "kernelspec": {
   "display_name": "Python 3",
   "language": "python",
   "name": "python3"
  },
  "language_info": {
   "codemirror_mode": {
    "name": "ipython",
    "version": 3
   },
   "file_extension": ".py",
   "mimetype": "text/x-python",
   "name": "python",
   "nbconvert_exporter": "python",
   "pygments_lexer": "ipython3",
   "version": "3.6.7"
  }
 },
 "nbformat": 4,
 "nbformat_minor": 2
}
