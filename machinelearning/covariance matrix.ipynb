{
 "cells": [
  {
   "cell_type": "markdown",
   "metadata": {},
   "source": [
    "### calculate the covariance matrix\n",
    "the covariance is between the features, not between the sample points.\n",
    "$$Var(X,Y)=\\frac{\\sum_{i=0}^{n}(X_i-\\bar X)(Y_i-\\bar Y)}{n-1}$$"
   ]
  },
  {
   "cell_type": "code",
   "execution_count": 4,
   "metadata": {},
   "outputs": [
    {
     "data": {
      "text/plain": [
       "array([[2, 8, 4],\n",
       "       [1, 7, 7],\n",
       "       [4, 5, 7],\n",
       "       [9, 1, 8],\n",
       "       [4, 0, 4]])"
      ]
     },
     "execution_count": 4,
     "metadata": {},
     "output_type": "execute_result"
    }
   ],
   "source": [
    "import numpy as np\n",
    "a=np.random.randint(0,10,size=[5,3])\n",
    "a"
   ]
  },
  {
   "cell_type": "markdown",
   "metadata": {},
   "source": [
    "##### goint to calculate the covariance matrix"
   ]
  },
  {
   "cell_type": "code",
   "execution_count": 35,
   "metadata": {},
   "outputs": [
    {
     "name": "stdout",
     "output_type": "stream",
     "text": [
      "-8.0 2.75 -0.5\n",
      "3.5\n"
     ]
    }
   ],
   "source": [
    "dim1=a[:,0]\n",
    "dim2=a[:,1]\n",
    "dim3=a[:,2]\n",
    "# dim1\n",
    "cov12=np.sum(np.dot((dim1-np.mean(dim1)),(dim2-np.mean(dim2))))/(dim1.shape[0]-1)\n",
    "cov13=np.sum(np.dot((dim1-np.mean(dim1)),(dim3-np.mean(dim3))))/(dim1.shape[0]-1)\n",
    "cov23=np.sum(np.dot((dim3-np.mean(dim3)),(dim2-np.mean(dim2))))/(dim1.shape[0]-1)  #can use len(dim1)\n",
    "# cov33=np.sum(np.dot((dim3-np.mean(dim3)),(dim3-np.mean(dim3))))/(dim1.shape[0]-1)  #this is the variance actually.\n",
    "print(cov12,cov13,cov23)\n",
    "# print(cov33)"
   ]
  },
  {
   "cell_type": "code",
   "execution_count": 34,
   "metadata": {},
   "outputs": [
    {
     "data": {
      "text/plain": [
       "array([[ 9.5 , -8.  ,  2.75],\n",
       "       [-8.  , 12.7 , -0.5 ],\n",
       "       [ 2.75, -0.5 ,  3.5 ]])"
      ]
     },
     "execution_count": 34,
     "metadata": {},
     "output_type": "execute_result"
    }
   ],
   "source": [
    "# cov of the matrix \n",
    "covA=np.cov(a.T)\n",
    "# the cov of nupmy is different with the real math in hard copy, see the row as a feature.\n",
    "covA\n",
    "# the result is the same with what we calculated above."
   ]
  },
  {
   "cell_type": "code",
   "execution_count": 29,
   "metadata": {},
   "outputs": [
    {
     "data": {
      "text/plain": [
       "-32.0"
      ]
     },
     "execution_count": 29,
     "metadata": {},
     "output_type": "execute_result"
    }
   ],
   "source": [
    "# test the function which I'm not familar.\n",
    "# np.dot((dim1-np.mean(dim1)),(dim2-np.mean(dim2)))\n",
    "# np.mean(dim1)\n",
    "# dim1.shape[0]"
   ]
  }
 ],
 "metadata": {
  "kernelspec": {
   "display_name": "Python 3",
   "language": "python",
   "name": "python3"
  },
  "language_info": {
   "codemirror_mode": {
    "name": "ipython",
    "version": 3
   },
   "file_extension": ".py",
   "mimetype": "text/x-python",
   "name": "python",
   "nbconvert_exporter": "python",
   "pygments_lexer": "ipython3",
   "version": "3.6.7"
  }
 },
 "nbformat": 4,
 "nbformat_minor": 2
}
