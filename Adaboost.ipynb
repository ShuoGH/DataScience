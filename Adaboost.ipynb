{
 "cells": [
  {
   "cell_type": "markdown",
   "metadata": {},
   "source": [
    "# Adaboost\n",
    "\n",
    "Based on the book,  `Machine Learning in Action `"
   ]
  },
  {
   "cell_type": "code",
   "execution_count": 6,
   "metadata": {},
   "outputs": [],
   "source": [
    "import numpy as np\n",
    "import matplotlib.pyplot as plt"
   ]
  },
  {
   "cell_type": "code",
   "execution_count": 13,
   "metadata": {},
   "outputs": [
    {
     "data": {
      "text/plain": [
       "<matplotlib.collections.PathCollection at 0x117f5f1d0>"
      ]
     },
     "execution_count": 13,
     "metadata": {},
     "output_type": "execute_result"
    },
    {
     "data": {
      "image/png": "[encoded data removed]",
      "text/plain": [
       "<Figure size 432x288 with 1 Axes>"
      ]
     },
     "metadata": {
      "needs_background": "light"
     },
     "output_type": "display_data"
    }
   ],
   "source": [
    "# define a data set\n",
    "data=np.array([[1,2.1],[2,1.1],[1.3,1],[1,1],[2,1]])\n",
    "label=np.array([1,1,-1,-1,1])\n",
    "plt.scatter(data[:,0],data[:,1],c=['r' if i==1 else 'b' for i in label])"
   ]
  },
  {
   "cell_type": "markdown",
   "metadata": {},
   "source": [
    "## Build a LoadDataSet function \n",
    "\n",
    "Basic function of loading data set from a file"
   ]
  },
  {
   "cell_type": "code",
   "execution_count": 1,
   "metadata": {},
   "outputs": [],
   "source": [
    "def loadDataSet(fileName):\n",
    "    numFeat=len(open(fileName).readline().split('\\t'))\n",
    "    \n",
    "    dataMat=[]\n",
    "    label=[]\n",
    "    \n",
    "    fr=open(fileName)\n",
    "    for line in fr.readlines():\n",
    "        lineArr=[]\n",
    "        corLine=line.strip().split('\\t')\n",
    "        for i in range(numFeat-1):\n",
    "            lineArr.append(float(curLine[i]))\n",
    "        dataMat.append(lineArr)\n",
    "        label.append(float(curLine[-1]))\n",
    "    return dataMat,label"
   ]
  },
  {
   "cell_type": "markdown",
   "metadata": {},
   "source": [
    "## Build a decision stump classifier"
   ]
  },
  {
   "cell_type": "code",
   "execution_count": 70,
   "metadata": {},
   "outputs": [],
   "source": [
    "def stumpClassify(data,dime,thresVal,threshIneq):\n",
    "    retArray=np.ones(data.shape[0])\n",
    "    if threshIneq==\"lt\":\n",
    "        retArray[data[:,dime]<=thresVal]=-1 \n",
    "    else:\n",
    "        retArray[data[:,dime]>thresVal]=-1\n",
    "    return retArray\n",
    "def buildStump(data,label,weight):\n",
    "#     label=label.reshape(-1,1)\n",
    "    m,n=data.shape\n",
    "    numSteps=10\n",
    "    bestStump={}\n",
    "    bestClassEst=np.ones(m)\n",
    "    minErr=np.inf\n",
    "    \n",
    "    for i in range(n):\n",
    "        rangeMin=data[:,i].min()\n",
    "        rangeMax=data[:,i].max()\n",
    "        stepSize=(rangeMax-rangeMin)/numSteps\n",
    "        \n",
    "        for j in range(-1,numSteps+1):\n",
    "            for inequal in ['lt','gt']:\n",
    "                threshVal=rangeMin+j*stepSize\n",
    "                predictLabels=stumpClassify(data,i,threshVal,inequal)\n",
    "#                 print(label,predictLabels)\n",
    "                errorArr=np.ones(data.shape[0])\n",
    "                errorArr[predictLabels==label]=0\n",
    "                weightedErr=weight@errorArr\n",
    "#                 print(\"dim:\",i,\" thresh:\",threshVal,\" thresh inequality:\",inequal,\" The weighted error rate:\", weightedErr)\n",
    "                if weightedErr<minErr:\n",
    "                    minErr=weightedErr\n",
    "                    bestClassEst=predictLabels.copy()\n",
    "                    bestStump['dim']=i\n",
    "                    bestStump['thresh']=threshVal\n",
    "                    bestStump['ineq']=inequal\n",
    "    return bestStump,minErr,bestClassEst\n"
   ]
  },
  {
   "cell_type": "markdown",
   "metadata": {},
   "source": [
    "这两个方程通过单层决策树，以及穷举式的方法来找出最佳的分类器。\n",
    "\n",
    "这个`buildStump`就是一个决策树的简化版本，是一个所谓的弱学习器，弱分类算法。\n",
    "\n",
    "在之后一部分，我们将通过多个弱学习器来构建adaboost算法。"
   ]
  },
  {
   "cell_type": "code",
   "execution_count": 71,
   "metadata": {
    "scrolled": true
   },
   "outputs": [
    {
     "data": {
      "text/plain": [
       "({'dim': 0, 'thresh': 1.3, 'ineq': 'lt'},\n",
       " 0.2,\n",
       " array([-1.,  1., -1., -1.,  1.]))"
      ]
     },
     "execution_count": 71,
     "metadata": {},
     "output_type": "execute_result"
    }
   ],
   "source": [
    "initialWeight=np.ones(data.shape[0])/5\n",
    "# print(\"%.3f\"%a)\n",
    "buildStump(data,label,initialWeight)"
   ]
  },
  {
   "cell_type": "markdown",
   "metadata": {},
   "source": [
    "## Adaboost\n",
    "\n",
    "To realise the Adaboost:\n",
    "\n",
    "对每次迭代: \n",
    "- 利用buildStump()函数找到最佳的单层决策树\n",
    "- 将最佳单层决策树加入到单层决策树数组 \n",
    "- 计算alpha\n",
    "- 计算新的权重向量D\n",
    "- 更新累计类别估计值 \n",
    "- 如果错误率等于0.0，则退出循环"
   ]
  },
  {
   "cell_type": "code",
   "execution_count": 74,
   "metadata": {},
   "outputs": [],
   "source": [
    "def adaboostTrainDS(data,label,numberIter=40):\n",
    "    '''\n",
    "    Name:\n",
    "        the `DS` means the base classifier is the decision stump. You can define the base classifier by yourself.\n",
    "    Parameter:\n",
    "    input: \n",
    "        data and its corresponding label, the numberIter is the number of iteration\n",
    "    output:\n",
    "        a list of weak learner machines containing the information and the corresponding alpha values.\n",
    "        (the alphe value is used to combine all the classifier in the final step)\n",
    "    '''\n",
    "    weakClassifier=[]\n",
    "    m=data.shape[0]\n",
    "#     initialize the weight by average allocating\n",
    "    weight=np.ones(m)/m\n",
    "    aggClassEst=np.zeros(m)\n",
    "    for i in range(numberIter):\n",
    "        bestStump,error,bestClassEst=buildStump(data,label,weight)\n",
    "#         print(weight)\n",
    "        alpha=float(0.5*np.log((1-error)/max(error,1e-16)))\n",
    "        bestStump['alpha']=alpha\n",
    "        weakClassifier.append(bestStump)\n",
    "#         print(\"predicted estimate: \",bestClassEst)      \n",
    "\n",
    "        # these two lines of code update the weight vector\n",
    "        weight=weight*np.exp((-alpha*label*bestClassEst)) \n",
    "        weight=weight/weight.sum()\n",
    "        \n",
    "        # combine all the weak classifier, and calculate the error rate \n",
    "        aggClassEst+=alpha*bestClassEst\n",
    "        print(\"aggClassEst: \",aggClassEst)\n",
    "        aggErrors=(np.sign(aggClassEst)!=label)*np.ones(m)\n",
    "        errorRate=aggErrors.sum()/m\n",
    "        print(\"total error: \",errorRate)\n",
    "        if errorRate==0: break\n",
    "    return weakClassifier"
   ]
  },
  {
   "cell_type": "code",
   "execution_count": 73,
   "metadata": {},
   "outputs": [
    {
     "name": "stdout",
     "output_type": "stream",
     "text": [
      "aggClassEst:  [-0.69314718  0.69314718 -0.69314718 -0.69314718  0.69314718]\n",
      "total error:  0.2\n",
      "aggClassEst:  [ 0.27980789  1.66610226 -1.66610226 -1.66610226 -0.27980789]\n",
      "total error:  0.2\n",
      "aggClassEst:  [ 1.17568763  2.56198199 -0.77022252 -0.77022252  0.61607184]\n",
      "total error:  0.0\n"
     ]
    },
    {
     "data": {
      "text/plain": [
       "[{'dim': 0, 'thresh': 1.3, 'ineq': 'lt', 'alpha': 0.6931471805599453},\n",
       " {'dim': 1, 'thresh': 1.0, 'ineq': 'lt', 'alpha': 0.9729550745276565},\n",
       " {'dim': 0, 'thresh': 0.9, 'ineq': 'lt', 'alpha': 0.8958797346140273}]"
      ]
     },
     "execution_count": 73,
     "metadata": {},
     "output_type": "execute_result"
    }
   ],
   "source": [
    "adaboostTrain(data,label,9)"
   ]
  },
  {
   "cell_type": "markdown",
   "metadata": {},
   "source": [
    "其实boost最后还是生成了好多个分类器，然后combine所有的分类器从而进行分类。\n",
    "\n",
    "只不过生成这些分类器的过程叫boosting，即通过更新weight来生成新的训练集对weak learner进行训练产生不同的分类器。\n",
    "\n",
    "\n",
    "### Reference：\n",
    "[1] Machine Learning in Action\n",
    "\n",
    "[2] 李宏毅老师的课程[资源](https://www.youtube.com/watch?v=tH9FH1DH5n0)"
   ]
  },
  {
   "cell_type": "code",
   "execution_count": null,
   "metadata": {},
   "outputs": [],
   "source": []
  }
 ],
 "metadata": {
  "kernelspec": {
   "display_name": "Python 3",
   "language": "python",
   "name": "python3"
  },
  "language_info": {
   "codemirror_mode": {
    "name": "ipython",
    "version": 3
   },
   "file_extension": ".py",
   "mimetype": "text/x-python",
   "name": "python",
   "nbconvert_exporter": "python",
   "pygments_lexer": "ipython3",
   "version": "3.7.1"
  }
 },
 "nbformat": 4,
 "nbformat_minor": 2
}
